{
 "cells": [
  {
   "cell_type": "markdown",
   "metadata": {},
   "source": [
    "# How models work\n",
    "\n",
    "To understand how models work we can take a very commonly used dataset and a model that is intuitive to understand. \n",
    "\n",
    "The dataset we are going to use will be the [Housing Prices dataset](https://www.kaggle.com/c/home-data-for-ml-course/data), containing 80 features and a final price for 1460 houses.\n",
    "\n",
    "We will start with a model called [Decision Tree](https://en.wikipedia.org/wiki/Decision_tree).\n",
    "\n",
    "But first, shall we have a look at those features?"
   ]
  },
  {
   "cell_type": "code",
   "execution_count": null,
   "metadata": {},
   "outputs": [],
   "source": [
    "# Import pandas\n",
    "\n",
    "\n",
    "# Load the dataset, located in ../data/housing/train.csv\n",
    "\n",
    "\n",
    "# print the first 5 records of the dataset\n"
   ]
  },
  {
   "cell_type": "markdown",
   "metadata": {},
   "source": [
    "## Decision Tree"
   ]
  },
  {
   "cell_type": "markdown",
   "metadata": {},
   "source": [
    "For simplicity, we'll start with the simplest possible decision tree:\n",
    "\n",
    "![Simple Decision Tree](../data/misc/simple_decision_tree.png)"
   ]
  },
  {
   "cell_type": "markdown",
   "metadata": {},
   "source": [
    "It divides houses into only two categories. The predicted price for any house under consideration is the historical average price of houses in the same category.\n",
    "\n",
    "We use data to decide how to break the houses into two groups, and then again to determine the predicted price in each group. This step of capturing patterns from data is called **fitting** or **training** the model. The data used to fit the model is called the **training data**.\n",
    "\n",
    "We will save the details about how the model is trained for later. After the model has been fit, you can apply it to new data to predict prices of additional homes."
   ]
  },
  {
   "cell_type": "markdown",
   "metadata": {},
   "source": [
    "## Improving the Decision Tree\n",
    "Which one of the following models you think it's better?\n",
    "\n",
    "![2 decision trees](../data/misc/2_decision_trees.png)\n",
    "\n",
    "The decision tree on the left (Decision Tree 1) probably makes more sense, because it captures the reality that houses with more bedrooms tend to sell at higher prices than houses with fewer bedrooms. The biggest shortcoming of this model is that it doesn't capture most factors affecting home price, like number of bathrooms, lot size, location, etc.\n",
    "\n",
    "You can capture more factors using a tree that has more \"splits.\" These are called \"deeper\" trees. A decision tree that also considers the total size of each house's lot might look like this:\n",
    "\n",
    "![Complex tree](../data/misc/complex_tree.png)\n",
    "\n",
    "You predict the price of any house by tracing through the decision tree, always picking the path corresponding to that house's characteristics. The predicted price for the house is at the bottom of the tree. The point at the bottom where we make a prediction is called a **leaf**.\n",
    "\n",
    "The splits and values at the leaves will be determined by the data, so it's time for you to check out the data you will be working with."
   ]
  },
  {
   "cell_type": "markdown",
   "metadata": {},
   "source": [
    "## Exploring the data\n",
    "The first step in any machine learning project is familiarize yourself with the data. You'll use the Pandas library for this. Pandas is the primary tool data scientists use for exploring and manipulating data.\n",
    "\n",
    "So once you have loaded your data into a variable called `df` (or however you want to call it, really), try to answer the following questions\n",
    "\n",
    "**1) What is the average lot size?**\n",
    "\n",
    "_tip: you can apply statistical functions like `mean`, `min`, etc. to any numerical column in your DataFrame_"
   ]
  },
  {
   "cell_type": "code",
   "execution_count": null,
   "metadata": {},
   "outputs": [],
   "source": [
    "avg_lot_size =  # your answer here \n",
    "\n",
    "print(f'Avg lot size is: {avg_lot_size}')"
   ]
  },
  {
   "cell_type": "markdown",
   "metadata": {},
   "source": [
    "**2) As of today, how old is the newest home (current year - the date in which it was built)**"
   ]
  },
  {
   "cell_type": "code",
   "execution_count": null,
   "metadata": {},
   "outputs": [],
   "source": [
    "age_newest_house =  # your answer here\n",
    "\n",
    "print(f'The newest home is {age_newest_house} years old')"
   ]
  },
  {
   "cell_type": "markdown",
   "metadata": {},
   "source": [
    "The newest house in your data isn't that new.  A few potential explanations for this:\n",
    "\n",
    "1. They haven't built new houses where this data was collected.\n",
    "2. The data was collected a long time ago. Houses built after the data publication wouldn't show up.\n",
    "\n",
    "If the reason is explanation #1 above, does that affect your trust in the model you build with this data? What about if it is reason #2?\n",
    "\n",
    "How could you dig into the data to see which explanation is more plausible?"
   ]
  }
 ],
 "metadata": {
  "kernelspec": {
   "display_name": "Python 3",
   "language": "python",
   "name": "python3"
  },
  "language_info": {
   "codemirror_mode": {
    "name": "ipython",
    "version": 3
   },
   "file_extension": ".py",
   "mimetype": "text/x-python",
   "name": "python",
   "nbconvert_exporter": "python",
   "pygments_lexer": "ipython3",
   "version": "3.7.6"
  }
 },
 "nbformat": 4,
 "nbformat_minor": 2
}
