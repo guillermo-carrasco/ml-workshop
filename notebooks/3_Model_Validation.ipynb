{
 "cells": [
  {
   "cell_type": "markdown",
   "metadata": {},
   "source": [
    "# Model Validation\n",
    "\n",
    "Okay, we have built a model. But, how good is it? We saw something interesting when comparing the predictions with the true values...\n",
    "\n",
    "You'll want to evaluate every model you ever build. In most (though not all) applications, the relevant measure of model quality is predictive **accuracy**. In other words, will the model's predictions be close to what actually happens. This is specially true for regression tasks, and it is a bit more complicated with classification tasks. \n",
    "\n",
    "Many people make a huge mistake when measuring predictive accuracy. They make predictions with their training data and compare those predictions to the target values in the training data. \n",
    "\n",
    "**Can you see why this is a problem?**\n",
    "\n",
    "\n",
    "You'll see the problem with this approach and how to solve it in a moment, but let's think about how we'd do this first.\n",
    "\n",
    "## Defining accuracy for our case\n",
    "\n",
    "You'd first need to summarize the model quality into an understandable way. If you compare predicted and actual home values for 10,000 houses, you'll likely find mix of good and bad predictions. Looking through a list of 10,000 predicted and actual values would be pointless. We need to summarize this into a single metric.\n",
    "\n",
    "There are many metrics for summarizing model quality, but we'll start with one called **Mean Absolute Error** (also called MAE). Let's break down this metric starting with the last word, error.\n",
    "\n",
    "The prediction error for each house is: `error = actual - predicted`\n",
    "\n",
    "So, if a house cost $150,000 and you predicted it would cost $100,000 the error is $50,000.\n",
    "\n",
    "With the MAE metric, we take the absolute value of each error. This converts each error to a positive number. We then take the average of those absolute errors. This is our measure of model quality. In plain English, it can be said as\n",
    "\n",
    "> On average, our predictions are off by about X.\n",
    "\n",
    "To calculate the MAE, we need two things:\n",
    "\n",
    "* A model (we did this in our previous notebook)\n",
    "* Predictions for our data\n",
    "\n",
    "To calculate the MAE, we will also use `scikit-learn`"
   ]
  },
  {
   "cell_type": "code",
   "execution_count": null,
   "metadata": {},
   "outputs": [],
   "source": [
    "# Don't modify\n",
    "import pandas as pd\n",
    "\n",
    "from sklearn.tree import DecisionTreeRegressor\n",
    "\n",
    "df = pd.read_csv('../data/housing/train.csv')\n",
    "\n",
    "features = [\n",
    "    'LotArea',\n",
    "    'YearBuilt',\n",
    "    '1stFlrSF',\n",
    "    '2ndFlrSF',\n",
    "    'FullBath',\n",
    "    'BedroomAbvGr',\n",
    "    'TotRmsAbvGrd'\n",
    "]\n",
    "target = 'SalePrice'\n",
    "\n",
    "X = df[features]\n",
    "y = df[target]\n",
    "\n",
    "model = DecisionTreeRegressor(random_state=1)\n",
    "model.fit(X, y)\n",
    "\n",
    "predictions = model.predict(X)"
   ]
  },
  {
   "cell_type": "markdown",
   "metadata": {},
   "source": [
    "Now, you have trained a model and run the predictions. The method `mean_absolute_error` from the package `sklearn.metrics` will help you calculate the MAE. Try importing it and print the error:"
   ]
  },
  {
   "cell_type": "code",
   "execution_count": null,
   "metadata": {},
   "outputs": [],
   "source": [
    "from _ import _ # Import mean_absolute_error here\n",
    "\n",
    "mae =  # calculate MAE between y and predictions\n",
    "print(f'MAE for the model: {mae}')"
   ]
  },
  {
   "cell_type": "markdown",
   "metadata": {},
   "source": [
    "Looks good, right? Given the prices of the houses, a MAE of ~62 looks amazing!\n",
    "\n",
    "## The Problem with \"In-Sample\" Scores\n",
    "The measure we just computed can be called an _\"in-sample\"_ score. We used a single \"sample\" of houses for both building the model and evaluating it. Here's why this is bad.\n",
    "\n",
    "Imagine that, in the large real estate market, door color is unrelated to home price.\n",
    "\n",
    "However, in the sample of data you used to build the model, all homes with green doors were very expensive. The model's job is to find patterns that predict home prices, so it will see this pattern, and it will always predict high prices for homes with green doors.\n",
    "\n",
    "Since this pattern was derived from the training data, the model will appear accurate in the training data.\n",
    "\n",
    "But if this pattern doesn't hold when the model sees new data, the model would be very inaccurate when used in practice.\n",
    "\n",
    "Since models' practical value come from making predictions on new data, we measure performance on data that wasn't used to build the model. The most straightforward way to do this is to exclude some data from the model-building process, and then use those to test the model's accuracy on data it hasn't seen before. This data is called validation data.\n",
    "\n",
    "As usual, `scikit-learn` has useful functions to help with this. Specifically, the `train_test_split` method from the `model_selection` package does exactly this.\n",
    "\n",
    "Try importing that module and splitting the data:"
   ]
  },
  {
   "cell_type": "code",
   "execution_count": null,
   "metadata": {},
   "outputs": [],
   "source": [
    "from _ import _ # Import train_test_split\n",
    "\n",
    "train_X, val_X, train_y, val_y =  # use train_test_split to split the data"
   ]
  },
  {
   "cell_type": "markdown",
   "metadata": {},
   "source": [
    "Now, try retraining the model with only the training data, and run predictions on the validation data. What happens with MAS?"
   ]
  },
  {
   "cell_type": "code",
   "execution_count": null,
   "metadata": {},
   "outputs": [],
   "source": [
    "# 1. Retrain model with train_X and train_y\n",
    "\n",
    "\n",
    "# 2. Run predictions on val_X\n",
    "\n",
    "\n",
    "# 3. Calculate MAE between predictions and val_y\n",
    "\n",
    "\n",
    "print(f'MAE for the model: {mae}')"
   ]
  },
  {
   "cell_type": "markdown",
   "metadata": {},
   "source": [
    "wow! that went up quite a lot... what happened? "
   ]
  }
 ],
 "metadata": {
  "kernelspec": {
   "display_name": "Python 3",
   "language": "python",
   "name": "python3"
  },
  "language_info": {
   "codemirror_mode": {
    "name": "ipython",
    "version": 3
   },
   "file_extension": ".py",
   "mimetype": "text/x-python",
   "name": "python",
   "nbconvert_exporter": "python",
   "pygments_lexer": "ipython3",
   "version": "3.7.6"
  }
 },
 "nbformat": 4,
 "nbformat_minor": 2
}
